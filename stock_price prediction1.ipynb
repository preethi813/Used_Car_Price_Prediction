{
 "cells": [
  {
   "cell_type": "code",
   "execution_count": 4,
   "metadata": {},
   "outputs": [],
   "source": [
    "#Importing the libraries\n",
    "from nsepy import get_history as gh\n",
    "import datetime as dt\n",
    "from matplotlib import pyplot as plt\n",
    "from sklearn import model_selection\n",
    "from sklearn.metrics import confusion_matrix\n",
    "from sklearn.preprocessing import StandardScaler\n",
    "from sklearn.model_selection import train_test_split\n",
    "import numpy as np\n",
    "import pandas as pd\n",
    "from sklearn.preprocessing import MinMaxScaler\n",
    "from keras.models import Sequential\n",
    "from keras.layers import Dense\n",
    "from keras.layers import LSTM\n",
    "from keras.layers import Dropout\n",
    "from pmdarima import auto_arima \n",
    "import warnings \n",
    "from statsmodels.tsa.seasonal import seasonal_decompose \n",
    "from statsmodels.tsa.statespace.sarimax import SARIMAX "
   ]
  },
  {
   "cell_type": "code",
   "execution_count": null,
   "metadata": {},
   "outputs": [],
   "source": [
    "pip install nsepy"
   ]
  },
  {
   "cell_type": "code",
   "execution_count": 3,
   "metadata": {},
   "outputs": [
    {
     "name": "stdout",
     "output_type": "stream",
     "text": [
      "Collecting pmdarima\n",
      "  Using cached pmdarima-1.8.5-cp38-cp38-win_amd64.whl (602 kB)\n",
      "Requirement already satisfied: pandas>=0.19 in c:\\users\\preethi\\anaconda3\\lib\\site-packages (from pmdarima) (1.1.3)\n",
      "Requirement already satisfied: numpy>=1.19.3 in c:\\users\\preethi\\anaconda3\\lib\\site-packages (from pmdarima) (1.22.3)\n",
      "Requirement already satisfied: scikit-learn>=0.22 in c:\\users\\preethi\\anaconda3\\lib\\site-packages (from pmdarima) (0.23.2)\n",
      "Requirement already satisfied: scipy>=1.3.2 in c:\\users\\preethi\\anaconda3\\lib\\site-packages (from pmdarima) (1.5.2)\n",
      "Requirement already satisfied: Cython!=0.29.18,>=0.29 in c:\\users\\preethi\\anaconda3\\lib\\site-packages (from pmdarima) (0.29.21)\n",
      "Collecting statsmodels!=0.12.0,>=0.11\n",
      "  Using cached statsmodels-0.13.2-cp38-cp38-win_amd64.whl (9.1 MB)\n",
      "Requirement already satisfied: joblib>=0.11 in c:\\users\\preethi\\anaconda3\\lib\\site-packages (from pmdarima) (0.17.0)\n",
      "Requirement already satisfied: setuptools!=50.0.0,>=38.6.0 in c:\\users\\preethi\\anaconda3\\lib\\site-packages (from pmdarima) (50.3.1.post20201107)\n",
      "Requirement already satisfied: urllib3 in c:\\users\\preethi\\anaconda3\\lib\\site-packages (from pmdarima) (1.25.11)\n",
      "Requirement already satisfied: python-dateutil>=2.7.3 in c:\\users\\preethi\\anaconda3\\lib\\site-packages (from pandas>=0.19->pmdarima) (2.8.1)\n",
      "Requirement already satisfied: pytz>=2017.2 in c:\\users\\preethi\\anaconda3\\lib\\site-packages (from pandas>=0.19->pmdarima) (2020.1)\n",
      "Requirement already satisfied: threadpoolctl>=2.0.0 in c:\\users\\preethi\\anaconda3\\lib\\site-packages (from scikit-learn>=0.22->pmdarima) (2.1.0)\n",
      "Collecting patsy>=0.5.2\n",
      "  Using cached patsy-0.5.2-py2.py3-none-any.whl (233 kB)\n",
      "Requirement already satisfied: packaging>=21.3 in c:\\users\\preethi\\anaconda3\\lib\\site-packages (from statsmodels!=0.12.0,>=0.11->pmdarima) (21.3)\n",
      "Requirement already satisfied: six>=1.5 in c:\\users\\preethi\\anaconda3\\lib\\site-packages (from python-dateutil>=2.7.3->pandas>=0.19->pmdarima) (1.15.0)\n",
      "Requirement already satisfied: pyparsing!=3.0.5,>=2.0.2 in c:\\users\\preethi\\anaconda3\\lib\\site-packages (from packaging>=21.3->statsmodels!=0.12.0,>=0.11->pmdarima) (2.4.7)\n",
      "Installing collected packages: patsy, statsmodels, pmdarima\n",
      "  Attempting uninstall: patsy\n",
      "    Found existing installation: patsy 0.5.1\n",
      "    Uninstalling patsy-0.5.1:\n",
      "      Successfully uninstalled patsy-0.5.1\n",
      "  Attempting uninstall: statsmodels\n",
      "    Found existing installation: statsmodels 0.12.0\n",
      "    Uninstalling statsmodels-0.12.0:\n",
      "      Successfully uninstalled statsmodels-0.12.0\n",
      "Successfully installed patsy-0.5.2 pmdarima-1.8.5 statsmodels-0.13.2\n",
      "Collecting pmdarima\n",
      "  Using cached pmdarima-1.8.5-cp38-cp38-win_amd64.whl (602 kB)\n",
      "Collecting statsmodels!=0.12.0,>=0.11\n",
      "  Using cached statsmodels-0.13.2-cp38-cp38-win_amd64.whl (9.1 MB)\n",
      "Requirement already satisfied: scikit-learn>=0.22 in c:\\users\\preethi\\anaconda3\\lib\\site-packages (from pmdarima) (0.23.2)\n",
      "Requirement already satisfied: urllib3 in c:\\users\\preethi\\anaconda3\\lib\\site-packages (from pmdarima) (1.25.11)\n",
      "Requirement already satisfied: setuptools!=50.0.0,>=38.6.0 in c:\\users\\preethi\\anaconda3\\lib\\site-packages (from pmdarima) (50.3.1.post20201107)\n",
      "Requirement already satisfied: joblib>=0.11 in c:\\users\\preethi\\anaconda3\\lib\\site-packages (from pmdarima) (0.17.0)\n",
      "Requirement already satisfied: numpy>=1.19.3 in c:\\users\\preethi\\anaconda3\\lib\\site-packages (from pmdarima) (1.22.3)\n",
      "Requirement already satisfied: Cython!=0.29.18,>=0.29 in c:\\users\\preethi\\anaconda3\\lib\\site-packages (from pmdarima) (0.29.21)\n",
      "Requirement already satisfied: pandas>=0.19 in c:\\users\\preethi\\anaconda3\\lib\\site-packages (from pmdarima) (1.1.3)\n",
      "Requirement already satisfied: scipy>=1.3.2 in c:\\users\\preethi\\anaconda3\\lib\\site-packages (from pmdarima) (1.5.2)\n",
      "Requirement already satisfied: patsy>=0.5.2 in c:\\users\\preethi\\anaconda3\\lib\\site-packages (from statsmodels!=0.12.0,>=0.11->pmdarima) (0.5.2)\n",
      "Requirement already satisfied: packaging>=21.3 in c:\\users\\preethi\\anaconda3\\lib\\site-packages (from statsmodels!=0.12.0,>=0.11->pmdarima) (21.3)\n",
      "Requirement already satisfied: threadpoolctl>=2.0.0 in c:\\users\\preethi\\anaconda3\\lib\\site-packages (from scikit-learn>=0.22->pmdarima) (2.1.0)\n",
      "Requirement already satisfied: python-dateutil>=2.7.3 in c:\\users\\preethi\\anaconda3\\lib\\site-packages (from pandas>=0.19->pmdarima) (2.8.1)\n",
      "Requirement already satisfied: pytz>=2017.2 in c:\\users\\preethi\\anaconda3\\lib\\site-packages (from pandas>=0.19->pmdarima) (2020.1)\n",
      "Requirement already satisfied: six in c:\\users\\preethi\\anaconda3\\lib\\site-packages (from patsy>=0.5.2->statsmodels!=0.12.0,>=0.11->pmdarima) (1.15.0)\n",
      "Requirement already satisfied: pyparsing!=3.0.5,>=2.0.2 in c:\\users\\preethi\\anaconda3\\lib\\site-packages (from packaging>=21.3->statsmodels!=0.12.0,>=0.11->pmdarima) (2.4.7)\n",
      "Installing collected packages: statsmodels, pmdarima\n",
      "Successfully installed pmdarima-1.8.5 statsmodels-0.13.2\n",
      "Note: you may need to restart the kernel to use updated packages.\n"
     ]
    }
   ],
   "source": [
    "pip install pmdarima"
   ]
  },
  {
   "cell_type": "code",
   "execution_count": 5,
   "metadata": {},
   "outputs": [],
   "source": [
    "#Setting start and end dates and fetching the historical data\n",
    "start = dt.datetime(2013,1,1)\n",
    "end = dt.datetime(2019,12,31)\n",
    "stk_data = gh(symbol='SBIN',start=start,end=end)"
   ]
  },
  {
   "cell_type": "code",
   "execution_count": 6,
   "metadata": {},
   "outputs": [],
   "source": [
    "#Data Preprocessing\n",
    "stk_data['Date'] = stk_data.index\n",
    "data2 = pd.DataFrame(columns = ['Date', 'Open', 'High', 'Low', 'Close'])\n",
    "data2['Date'] = stk_data['Date']\n",
    "data2['Open'] = stk_data['Open']\n",
    "data2['High'] = stk_data['High']\n",
    "data2['Low'] = stk_data['Low']\n",
    "data2['Close'] = stk_data['Close']"
   ]
  },
  {
   "cell_type": "code",
   "execution_count": 7,
   "metadata": {},
   "outputs": [
    {
     "data": {
      "text/html": [
       "<div>\n",
       "<style scoped>\n",
       "    .dataframe tbody tr th:only-of-type {\n",
       "        vertical-align: middle;\n",
       "    }\n",
       "\n",
       "    .dataframe tbody tr th {\n",
       "        vertical-align: top;\n",
       "    }\n",
       "\n",
       "    .dataframe thead th {\n",
       "        text-align: right;\n",
       "    }\n",
       "</style>\n",
       "<table border=\"1\" class=\"dataframe\">\n",
       "  <thead>\n",
       "    <tr style=\"text-align: right;\">\n",
       "      <th></th>\n",
       "      <th>Date</th>\n",
       "      <th>Open</th>\n",
       "      <th>High</th>\n",
       "      <th>Low</th>\n",
       "      <th>Close</th>\n",
       "    </tr>\n",
       "    <tr>\n",
       "      <th>Date</th>\n",
       "      <th></th>\n",
       "      <th></th>\n",
       "      <th></th>\n",
       "      <th></th>\n",
       "      <th></th>\n",
       "    </tr>\n",
       "  </thead>\n",
       "  <tbody>\n",
       "    <tr>\n",
       "      <th>2013-01-01</th>\n",
       "      <td>2013-01-01</td>\n",
       "      <td>2404.90</td>\n",
       "      <td>2434.05</td>\n",
       "      <td>2397.55</td>\n",
       "      <td>2426.45</td>\n",
       "    </tr>\n",
       "    <tr>\n",
       "      <th>2013-01-02</th>\n",
       "      <td>2013-01-02</td>\n",
       "      <td>2450.00</td>\n",
       "      <td>2464.00</td>\n",
       "      <td>2438.15</td>\n",
       "      <td>2450.55</td>\n",
       "    </tr>\n",
       "    <tr>\n",
       "      <th>2013-01-03</th>\n",
       "      <td>2013-01-03</td>\n",
       "      <td>2460.00</td>\n",
       "      <td>2482.40</td>\n",
       "      <td>2436.20</td>\n",
       "      <td>2471.60</td>\n",
       "    </tr>\n",
       "    <tr>\n",
       "      <th>2013-01-04</th>\n",
       "      <td>2013-01-04</td>\n",
       "      <td>2460.00</td>\n",
       "      <td>2492.95</td>\n",
       "      <td>2450.65</td>\n",
       "      <td>2486.70</td>\n",
       "    </tr>\n",
       "    <tr>\n",
       "      <th>2013-01-07</th>\n",
       "      <td>2013-01-07</td>\n",
       "      <td>2490.00</td>\n",
       "      <td>2499.00</td>\n",
       "      <td>2461.75</td>\n",
       "      <td>2467.60</td>\n",
       "    </tr>\n",
       "    <tr>\n",
       "      <th>...</th>\n",
       "      <td>...</td>\n",
       "      <td>...</td>\n",
       "      <td>...</td>\n",
       "      <td>...</td>\n",
       "      <td>...</td>\n",
       "    </tr>\n",
       "    <tr>\n",
       "      <th>2019-12-24</th>\n",
       "      <td>2019-12-24</td>\n",
       "      <td>333.20</td>\n",
       "      <td>334.20</td>\n",
       "      <td>329.20</td>\n",
       "      <td>331.45</td>\n",
       "    </tr>\n",
       "    <tr>\n",
       "      <th>2019-12-26</th>\n",
       "      <td>2019-12-26</td>\n",
       "      <td>333.00</td>\n",
       "      <td>333.45</td>\n",
       "      <td>328.10</td>\n",
       "      <td>329.85</td>\n",
       "    </tr>\n",
       "    <tr>\n",
       "      <th>2019-12-27</th>\n",
       "      <td>2019-12-27</td>\n",
       "      <td>333.40</td>\n",
       "      <td>338.35</td>\n",
       "      <td>333.00</td>\n",
       "      <td>337.25</td>\n",
       "    </tr>\n",
       "    <tr>\n",
       "      <th>2019-12-30</th>\n",
       "      <td>2019-12-30</td>\n",
       "      <td>337.75</td>\n",
       "      <td>337.85</td>\n",
       "      <td>332.50</td>\n",
       "      <td>334.40</td>\n",
       "    </tr>\n",
       "    <tr>\n",
       "      <th>2019-12-31</th>\n",
       "      <td>2019-12-31</td>\n",
       "      <td>334.40</td>\n",
       "      <td>336.35</td>\n",
       "      <td>332.55</td>\n",
       "      <td>333.75</td>\n",
       "    </tr>\n",
       "  </tbody>\n",
       "</table>\n",
       "<p>1728 rows × 5 columns</p>\n",
       "</div>"
      ],
      "text/plain": [
       "                  Date     Open     High      Low    Close\n",
       "Date                                                      \n",
       "2013-01-01  2013-01-01  2404.90  2434.05  2397.55  2426.45\n",
       "2013-01-02  2013-01-02  2450.00  2464.00  2438.15  2450.55\n",
       "2013-01-03  2013-01-03  2460.00  2482.40  2436.20  2471.60\n",
       "2013-01-04  2013-01-04  2460.00  2492.95  2450.65  2486.70\n",
       "2013-01-07  2013-01-07  2490.00  2499.00  2461.75  2467.60\n",
       "...                ...      ...      ...      ...      ...\n",
       "2019-12-24  2019-12-24   333.20   334.20   329.20   331.45\n",
       "2019-12-26  2019-12-26   333.00   333.45   328.10   329.85\n",
       "2019-12-27  2019-12-27   333.40   338.35   333.00   337.25\n",
       "2019-12-30  2019-12-30   337.75   337.85   332.50   334.40\n",
       "2019-12-31  2019-12-31   334.40   336.35   332.55   333.75\n",
       "\n",
       "[1728 rows x 5 columns]"
      ]
     },
     "execution_count": 7,
     "metadata": {},
     "output_type": "execute_result"
    }
   ],
   "source": [
    "data2"
   ]
  },
  {
   "cell_type": "code",
   "execution_count": 8,
   "metadata": {},
   "outputs": [],
   "source": [
    "#####################ARIMA###############################\n",
    "# Ignore harmless warnings \n",
    "warnings.filterwarnings(\"ignore\") "
   ]
  },
  {
   "cell_type": "code",
   "execution_count": 9,
   "metadata": {},
   "outputs": [
    {
     "name": "stdout",
     "output_type": "stream",
     "text": [
      "Performing stepwise search to minimize aic\n",
      " ARIMA(1,0,1)(0,1,1)[12] intercept   : AIC=inf, Time=7.50 sec\n",
      " ARIMA(0,0,0)(0,1,0)[12] intercept   : AIC=23413.001, Time=0.18 sec\n",
      " ARIMA(1,0,0)(1,1,0)[12] intercept   : AIC=19984.430, Time=5.57 sec\n",
      " ARIMA(0,0,1)(0,1,1)[12] intercept   : AIC=21892.741, Time=5.90 sec\n",
      " ARIMA(0,0,0)(0,1,0)[12]             : AIC=23418.859, Time=0.14 sec\n",
      " ARIMA(1,0,0)(0,1,0)[12] intercept   : AIC=20446.815, Time=1.34 sec\n",
      " ARIMA(1,0,0)(2,1,0)[12] intercept   : AIC=19796.609, Time=23.39 sec\n",
      " ARIMA(1,0,0)(2,1,1)[12] intercept   : AIC=inf, Time=24.82 sec\n",
      " ARIMA(1,0,0)(1,1,1)[12] intercept   : AIC=inf, Time=6.45 sec\n",
      " ARIMA(0,0,0)(2,1,0)[12] intercept   : AIC=23409.107, Time=9.25 sec\n",
      " ARIMA(2,0,0)(2,1,0)[12] intercept   : AIC=19796.264, Time=32.70 sec\n",
      " ARIMA(2,0,0)(1,1,0)[12] intercept   : AIC=19981.493, Time=7.52 sec\n",
      " ARIMA(2,0,0)(2,1,1)[12] intercept   : AIC=inf, Time=29.35 sec\n",
      " ARIMA(2,0,0)(1,1,1)[12] intercept   : AIC=inf, Time=10.50 sec\n",
      " ARIMA(3,0,0)(2,1,0)[12] intercept   : AIC=19798.192, Time=36.53 sec\n",
      " ARIMA(2,0,1)(2,1,0)[12] intercept   : AIC=19798.234, Time=32.54 sec\n",
      " ARIMA(1,0,1)(2,1,0)[12] intercept   : AIC=19796.289, Time=27.35 sec\n",
      " ARIMA(3,0,1)(2,1,0)[12] intercept   : AIC=19799.749, Time=43.04 sec\n",
      " ARIMA(2,0,0)(2,1,0)[12]             : AIC=19795.157, Time=10.35 sec\n",
      " ARIMA(2,0,0)(1,1,0)[12]             : AIC=19980.371, Time=3.09 sec\n",
      " ARIMA(2,0,0)(2,1,1)[12]             : AIC=inf, Time=16.94 sec\n",
      " ARIMA(2,0,0)(1,1,1)[12]             : AIC=inf, Time=7.46 sec\n",
      " ARIMA(1,0,0)(2,1,0)[12]             : AIC=19795.511, Time=6.63 sec\n",
      " ARIMA(3,0,0)(2,1,0)[12]             : AIC=19797.100, Time=10.57 sec\n",
      " ARIMA(2,0,1)(2,1,0)[12]             : AIC=19797.137, Time=10.85 sec\n",
      " ARIMA(1,0,1)(2,1,0)[12]             : AIC=19795.195, Time=7.14 sec\n",
      " ARIMA(3,0,1)(2,1,0)[12]             : AIC=19798.626, Time=21.40 sec\n",
      "\n",
      "Best model:  ARIMA(2,0,0)(2,1,0)[12]          \n",
      "Total fit time: 400.084 seconds\n"
     ]
    }
   ],
   "source": [
    "# Fit auto_arima function to Stock Market Data\n",
    "stepwise_fit = auto_arima(data2['Close'], start_p = 1, start_q = 1, max_p = 3, max_q = 3, m = 12, start_P = 0, seasonal = True, d = None, D = 1, trace = True, error_action ='ignore', suppress_warnings = True, stepwise = True)   "
   ]
  },
  {
   "cell_type": "code",
   "execution_count": 10,
   "metadata": {},
   "outputs": [],
   "source": [
    "# Split data into train / test sets \n",
    "train = data2.iloc[:len(data2)-150] \n",
    "test = data2.iloc[len(data2)-150:]"
   ]
  },
  {
   "cell_type": "code",
   "execution_count": 11,
   "metadata": {},
   "outputs": [],
   "source": [
    "# Fit a SARIMAX\n",
    "model = SARIMAX(data2['Close'],  order = (0, 1, 1),  seasonal_order =(2, 1, 1, 12)) "
   ]
  },
  {
   "cell_type": "code",
   "execution_count": 12,
   "metadata": {},
   "outputs": [
    {
     "data": {
      "text/html": [
       "<table class=\"simpletable\">\n",
       "<caption>SARIMAX Results</caption>\n",
       "<tr>\n",
       "  <th>Dep. Variable:</th>                <td>Close</td>             <th>  No. Observations:  </th>   <td>1728</td>   \n",
       "</tr>\n",
       "<tr>\n",
       "  <th>Model:</th>           <td>SARIMAX(0, 1, 1)x(2, 1, 1, 12)</td> <th>  Log Likelihood     </th> <td>-9664.538</td>\n",
       "</tr>\n",
       "<tr>\n",
       "  <th>Date:</th>                   <td>Mon, 28 Mar 2022</td>        <th>  AIC                </th> <td>19339.075</td>\n",
       "</tr>\n",
       "<tr>\n",
       "  <th>Time:</th>                       <td>20:10:04</td>            <th>  BIC                </th> <td>19366.311</td>\n",
       "</tr>\n",
       "<tr>\n",
       "  <th>Sample:</th>                         <td>0</td>               <th>  HQIC               </th> <td>19349.154</td>\n",
       "</tr>\n",
       "<tr>\n",
       "  <th></th>                             <td> - 1728</td>            <th>                     </th>     <td> </td>    \n",
       "</tr>\n",
       "<tr>\n",
       "  <th>Covariance Type:</th>               <td>opg</td>              <th>                     </th>     <td> </td>    \n",
       "</tr>\n",
       "</table>\n",
       "<table class=\"simpletable\">\n",
       "<tr>\n",
       "      <td></td>        <th>coef</th>     <th>std err</th>      <th>z</th>      <th>P>|z|</th>  <th>[0.025</th>    <th>0.975]</th>  \n",
       "</tr>\n",
       "<tr>\n",
       "  <th>ma.L1</th>    <td>    0.0206</td> <td>    0.027</td> <td>    0.762</td> <td> 0.446</td> <td>   -0.032</td> <td>    0.074</td>\n",
       "</tr>\n",
       "<tr>\n",
       "  <th>ar.S.L12</th> <td>   -0.0202</td> <td>    0.106</td> <td>   -0.191</td> <td> 0.849</td> <td>   -0.227</td> <td>    0.187</td>\n",
       "</tr>\n",
       "<tr>\n",
       "  <th>ar.S.L24</th> <td>   -0.0162</td> <td>    0.068</td> <td>   -0.238</td> <td> 0.812</td> <td>   -0.150</td> <td>    0.118</td>\n",
       "</tr>\n",
       "<tr>\n",
       "  <th>ma.S.L12</th> <td>   -0.9999</td> <td>    2.849</td> <td>   -0.351</td> <td> 0.726</td> <td>   -6.583</td> <td>    4.583</td>\n",
       "</tr>\n",
       "<tr>\n",
       "  <th>sigma2</th>   <td> 4435.9254</td> <td> 1.26e+04</td> <td>    0.352</td> <td> 0.725</td> <td>-2.03e+04</td> <td> 2.91e+04</td>\n",
       "</tr>\n",
       "</table>\n",
       "<table class=\"simpletable\">\n",
       "<tr>\n",
       "  <th>Ljung-Box (L1) (Q):</th>     <td>0.00</td> <th>  Jarque-Bera (JB):  </th> <td>123143122.48</td>\n",
       "</tr>\n",
       "<tr>\n",
       "  <th>Prob(Q):</th>                <td>0.98</td> <th>  Prob(JB):          </th>     <td>0.00</td>    \n",
       "</tr>\n",
       "<tr>\n",
       "  <th>Heteroskedasticity (H):</th> <td>0.01</td> <th>  Skew:              </th>    <td>-33.86</td>   \n",
       "</tr>\n",
       "<tr>\n",
       "  <th>Prob(H) (two-sided):</th>    <td>0.00</td> <th>  Kurtosis:          </th>    <td>1313.99</td>  \n",
       "</tr>\n",
       "</table><br/><br/>Warnings:<br/>[1] Covariance matrix calculated using the outer product of gradients (complex-step)."
      ],
      "text/plain": [
       "<class 'statsmodels.iolib.summary.Summary'>\n",
       "\"\"\"\n",
       "                                     SARIMAX Results                                      \n",
       "==========================================================================================\n",
       "Dep. Variable:                              Close   No. Observations:                 1728\n",
       "Model:             SARIMAX(0, 1, 1)x(2, 1, 1, 12)   Log Likelihood               -9664.538\n",
       "Date:                            Mon, 28 Mar 2022   AIC                          19339.075\n",
       "Time:                                    20:10:04   BIC                          19366.311\n",
       "Sample:                                         0   HQIC                         19349.154\n",
       "                                           - 1728                                         \n",
       "Covariance Type:                              opg                                         \n",
       "==============================================================================\n",
       "                 coef    std err          z      P>|z|      [0.025      0.975]\n",
       "------------------------------------------------------------------------------\n",
       "ma.L1          0.0206      0.027      0.762      0.446      -0.032       0.074\n",
       "ar.S.L12      -0.0202      0.106     -0.191      0.849      -0.227       0.187\n",
       "ar.S.L24      -0.0162      0.068     -0.238      0.812      -0.150       0.118\n",
       "ma.S.L12      -0.9999      2.849     -0.351      0.726      -6.583       4.583\n",
       "sigma2      4435.9254   1.26e+04      0.352      0.725   -2.03e+04    2.91e+04\n",
       "===================================================================================\n",
       "Ljung-Box (L1) (Q):                   0.00   Jarque-Bera (JB):         123143122.48\n",
       "Prob(Q):                              0.98   Prob(JB):                         0.00\n",
       "Heteroskedasticity (H):               0.01   Skew:                           -33.86\n",
       "Prob(H) (two-sided):                  0.00   Kurtosis:                      1313.99\n",
       "===================================================================================\n",
       "\n",
       "Warnings:\n",
       "[1] Covariance matrix calculated using the outer product of gradients (complex-step).\n",
       "\"\"\""
      ]
     },
     "execution_count": 12,
     "metadata": {},
     "output_type": "execute_result"
    }
   ],
   "source": [
    "result = model.fit() \n",
    "result.summary() "
   ]
  },
  {
   "cell_type": "code",
   "execution_count": 13,
   "metadata": {},
   "outputs": [],
   "source": [
    "\n",
    "start = len(train) \n",
    "end = len(train) + len(test) - 1"
   ]
  },
  {
   "cell_type": "code",
   "execution_count": 14,
   "metadata": {},
   "outputs": [],
   "source": [
    "# Predictions for one-year against the test set \n",
    "predictions = result.predict(start, end, typ = 'levels').rename(\"Predictions\") "
   ]
  },
  {
   "cell_type": "code",
   "execution_count": 15,
   "metadata": {},
   "outputs": [
    {
     "data": {
      "text/plain": [
       "<AxesSubplot:xlabel='Date'>"
      ]
     },
     "execution_count": 15,
     "metadata": {},
     "output_type": "execute_result"
    },
    {
     "data": {
      "image/png": "[encoded data removed]",
      "text/plain": [
       "<Figure size 432x288 with 1 Axes>"
      ]
     },
     "metadata": {
      "needs_background": "light"
     },
     "output_type": "display_data"
    }
   ],
   "source": [
    "# plot predictions and actual values \n",
    "predictions.plot(legend = True) \n",
    "test['Close'].plot(legend = True)"
   ]
  },
  {
   "cell_type": "code",
   "execution_count": 19,
   "metadata": {},
   "outputs": [
    {
     "data": {
      "text/plain": [
       "\"#Defining the LSTM Recurrent Model\\nregressor = Sequential()\\nregressor.add(LSTM(units = 50, return_sequences = True, input_shape = (X_train.shape[1], 1)))\\nregressor.add(Dropout(0.2))\\nregressor.add(LSTM(units = 50, return_sequences = True))\\nregressor.add(Dropout(0.2))\\nregressor.add(LSTM(units = 50, return_sequences = True))\\nregressor.add(Dropout(0.2))\\nregressor.add(LSTM(units = 50))\\nregressor.add(Dropout(0.2))\\nregressor.add(Dense(units = 1))\\n\\n\\n#Compiling and fitting the model\\nregressor.compile(optimizer = 'adam', loss = 'mean_squared_error')\\nregressor.fit(X_train, y_train, epochs = 15, batch_size = 32)\""
      ]
     },
     "execution_count": 19,
     "metadata": {},
     "output_type": "execute_result"
    }
   ],
   "source": [
    "#############LSTM########################\n",
    "train_set = data2.iloc[0:1333:, 1:2].values\n",
    "sc = MinMaxScaler(feature_range = (0, 1))\n",
    "training_set_scaled = sc.fit_transform(train_set)\n",
    "X_train = []\n",
    "y_train = []\n",
    "for i in range(60, 1333):\n",
    "    X_train.append(training_set_scaled[i-60:i, 0])\n",
    "    y_train.append(training_set_scaled[i, 0]) \n",
    "X_train, y_train = np.array(X_train), np.array(y_train)\n",
    "X_train = np.reshape(X_train, (X_train.shape[0], X_train.shape[1], 1))\n",
    "\n",
    "\n",
    "'''#Defining the LSTM Recurrent Model\n",
    "regressor = Sequential()\n",
    "regressor.add(LSTM(units = 50, return_sequences = True, input_shape = (X_train.shape[1], 1)))\n",
    "regressor.add(Dropout(0.2))\n",
    "regressor.add(LSTM(units = 50, return_sequences = True))\n",
    "regressor.add(Dropout(0.2))\n",
    "regressor.add(LSTM(units = 50, return_sequences = True))\n",
    "regressor.add(Dropout(0.2))\n",
    "regressor.add(LSTM(units = 50))\n",
    "regressor.add(Dropout(0.2))\n",
    "regressor.add(Dense(units = 1))\n",
    "\n",
    "\n",
    "#Compiling and fitting the model\n",
    "regressor.compile(optimizer = 'adam', loss = 'mean_squared_error')\n",
    "regressor.fit(X_train, y_train, epochs = 15, batch_size = 32)'''"
   ]
  },
  {
   "cell_type": "code",
   "execution_count": 20,
   "metadata": {},
   "outputs": [],
   "source": [
    "#Defining the LSTM Recurrent Model\n",
    "regressor = Sequential()\n",
    "regressor.add(LSTM(units = 50, return_sequences = True, input_shape = (X_train.shape[1], 1)))\n",
    "regressor.add(Dropout(0.2))\n",
    "regressor.add(LSTM(units = 50, return_sequences = True))\n",
    "regressor.add(Dropout(0.2))\n",
    "regressor.add(LSTM(units = 50, return_sequences = True))\n",
    "regressor.add(Dropout(0.2))\n",
    "regressor.add(LSTM(units = 50))\n",
    "regressor.add(Dropout(0.2))\n",
    "regressor.add(Dense(units = 1))"
   ]
  },
  {
   "cell_type": "code",
   "execution_count": 21,
   "metadata": {},
   "outputs": [
    {
     "name": "stdout",
     "output_type": "stream",
     "text": [
      "Epoch 1/15\n",
      "40/40 [==============================] - 26s 178ms/step - loss: 0.0249\n",
      "Epoch 2/15\n",
      "40/40 [==============================] - 7s 172ms/step - loss: 0.0097\n",
      "Epoch 3/15\n",
      "40/40 [==============================] - 7s 165ms/step - loss: 0.0092\n",
      "Epoch 4/15\n",
      "40/40 [==============================] - 7s 181ms/step - loss: 0.0087\n",
      "Epoch 5/15\n",
      "40/40 [==============================] - 7s 178ms/step - loss: 0.0072\n",
      "Epoch 6/15\n",
      "40/40 [==============================] - 7s 170ms/step - loss: 0.0075\n",
      "Epoch 7/15\n",
      "40/40 [==============================] - 7s 176ms/step - loss: 0.0061\n",
      "Epoch 8/15\n",
      "40/40 [==============================] - 7s 175ms/step - loss: 0.0068\n",
      "Epoch 9/15\n",
      "40/40 [==============================] - 7s 173ms/step - loss: 0.0052\n",
      "Epoch 10/15\n",
      "40/40 [==============================] - 7s 177ms/step - loss: 0.0050\n",
      "Epoch 11/15\n",
      "40/40 [==============================] - 7s 176ms/step - loss: 0.0053 0s - loss: 0.0\n",
      "Epoch 12/15\n",
      "40/40 [==============================] - 7s 175ms/step - loss: 0.0052 5s - loss: 0\n",
      "Epoch 13/15\n",
      "40/40 [==============================] - 7s 175ms/step - loss: 0.0052: 0s - loss: \n",
      "Epoch 14/15\n",
      "40/40 [==============================] - 7s 176ms/step - loss: 0.0052\n",
      "Epoch 15/15\n",
      "40/40 [==============================] - 7s 175ms/step - loss: 0.0045\n"
     ]
    },
    {
     "data": {
      "text/plain": [
       "<keras.callbacks.History at 0x1dc83807c70>"
      ]
     },
     "execution_count": 21,
     "metadata": {},
     "output_type": "execute_result"
    }
   ],
   "source": [
    "#Compiling and fitting the model\n",
    "regressor.compile(optimizer = 'adam', loss = 'mean_squared_error')\n",
    "regressor.fit(X_train, y_train, epochs = 15, batch_size = 32)"
   ]
  },
  {
   "cell_type": "code",
   "execution_count": 22,
   "metadata": {},
   "outputs": [
    {
     "name": "stderr",
     "output_type": "stream",
     "text": [
      "Exception in thread Exception in thread Thread-50:\n",
      "Traceback (most recent call last):\n",
      "  File \"C:\\Users\\PREETHI\\anaconda3\\lib\\site-packages\\urllib3\\connectionpool.py\", line 670, in urlopen\n",
      "Thread-51:\n",
      "Traceback (most recent call last):\n",
      "  File \"C:\\Users\\PREETHI\\anaconda3\\lib\\site-packages\\urllib3\\connectionpool.py\", line 670, in urlopen\n",
      "        httplib_response = self._make_request(\n",
      "  File \"C:\\Users\\PREETHI\\anaconda3\\lib\\site-packages\\urllib3\\connectionpool.py\", line 426, in _make_request\n",
      "httplib_response = self._make_request(\n",
      "  File \"C:\\Users\\PREETHI\\anaconda3\\lib\\site-packages\\urllib3\\connectionpool.py\", line 426, in _make_request\n",
      "    six.raise_from(e, None)\n",
      "  File \"<string>\", line 3, in raise_from\n",
      "    six.raise_from(e, None)\n",
      "  File \"<string>\", line 3, in raise_from\n",
      "  File \"C:\\Users\\PREETHI\\anaconda3\\lib\\site-packages\\urllib3\\connectionpool.py\", line 421, in _make_request\n",
      "  File \"C:\\Users\\PREETHI\\anaconda3\\lib\\site-packages\\urllib3\\connectionpool.py\", line 421, in _make_request\n",
      "    httplib_response = conn.getresponse()\n",
      "  File \"C:\\Users\\PREETHI\\anaconda3\\lib\\http\\client.py\", line 1347, in getresponse\n",
      "    httplib_response = conn.getresponse()\n",
      "  File \"C:\\Users\\PREETHI\\anaconda3\\lib\\http\\client.py\", line 1347, in getresponse\n",
      "        response.begin()\n",
      "  File \"C:\\Users\\PREETHI\\anaconda3\\lib\\http\\client.py\", line 307, in begin\n",
      "response.begin()\n",
      "  File \"C:\\Users\\PREETHI\\anaconda3\\lib\\http\\client.py\", line 307, in begin\n",
      "    version, status, reason = self._read_status()\n",
      "  File \"C:\\Users\\PREETHI\\anaconda3\\lib\\http\\client.py\", line 268, in _read_status\n",
      "    version, status, reason = self._read_status()\n",
      "  File \"C:\\Users\\PREETHI\\anaconda3\\lib\\http\\client.py\", line 268, in _read_status\n",
      "    line = str(self.fp.readline(_MAXLINE + 1), \"iso-8859-1\")\n",
      "  File \"C:\\Users\\PREETHI\\anaconda3\\lib\\socket.py\", line 669, in readinto\n",
      "    line = str(self.fp.readline(_MAXLINE + 1), \"iso-8859-1\")\n",
      "  File \"C:\\Users\\PREETHI\\anaconda3\\lib\\socket.py\", line 669, in readinto\n",
      "        return self._sock.recv_into(b)return self._sock.recv_into(b)\n",
      "  File \"C:\\Users\\PREETHI\\anaconda3\\lib\\ssl.py\", line 1241, in recv_into\n",
      "\n",
      "  File \"C:\\Users\\PREETHI\\anaconda3\\lib\\ssl.py\", line 1241, in recv_into\n",
      "        return self.read(nbytes, buffer)\n",
      "  File \"C:\\Users\\PREETHI\\anaconda3\\lib\\ssl.py\", line 1099, in read\n",
      "return self.read(nbytes, buffer)\n",
      "  File \"C:\\Users\\PREETHI\\anaconda3\\lib\\ssl.py\", line 1099, in read\n",
      "    return self._sslobj.read(len, buffer)\n",
      "ConnectionResetError: [WinError 10054] An existing connection was forcibly closed by the remote host\n",
      "\n",
      "During handling of the above exception, another exception occurred:\n",
      "\n",
      "Traceback (most recent call last):\n",
      "  File \"C:\\Users\\PREETHI\\anaconda3\\lib\\site-packages\\requests\\adapters.py\", line 439, in send\n",
      "        resp = conn.urlopen(return self._sslobj.read(len, buffer)\n",
      "ConnectionResetError: \n",
      "  File \"C:\\Users\\PREETHI\\anaconda3\\lib\\site-packages\\urllib3\\connectionpool.py\", line 726, in urlopen\n",
      "[WinError 10054] An existing connection was forcibly closed by the remote host\n",
      "\n",
      "During handling of the above exception, another exception occurred:\n",
      "\n",
      "Traceback (most recent call last):\n",
      "  File \"C:\\Users\\PREETHI\\anaconda3\\lib\\site-packages\\requests\\adapters.py\", line 439, in send\n",
      "        resp = conn.urlopen(\n",
      "  File \"C:\\Users\\PREETHI\\anaconda3\\lib\\site-packages\\urllib3\\connectionpool.py\", line 726, in urlopen\n",
      "retries = retries.increment(\n",
      "  File \"C:\\Users\\PREETHI\\anaconda3\\lib\\site-packages\\urllib3\\util\\retry.py\", line 410, in increment\n",
      "    retries = retries.increment(\n",
      "  File \"C:\\Users\\PREETHI\\anaconda3\\lib\\site-packages\\urllib3\\util\\retry.py\", line 410, in increment\n",
      "    raise six.reraise(type(error), error, _stacktrace)\n",
      "  File \"C:\\Users\\PREETHI\\anaconda3\\lib\\site-packages\\urllib3\\packages\\six.py\", line 734, in reraise\n",
      "    raise six.reraise(type(error), error, _stacktrace)\n",
      "  File \"C:\\Users\\PREETHI\\anaconda3\\lib\\site-packages\\urllib3\\packages\\six.py\", line 734, in reraise\n",
      "        raise value.with_traceback(tb)raise value.with_traceback(tb)\n",
      "\n",
      "  File \"C:\\Users\\PREETHI\\anaconda3\\lib\\site-packages\\urllib3\\connectionpool.py\", line 670, in urlopen\n",
      "  File \"C:\\Users\\PREETHI\\anaconda3\\lib\\site-packages\\urllib3\\connectionpool.py\", line 670, in urlopen\n",
      "    httplib_response = self._make_request(\n",
      "  File \"C:\\Users\\PREETHI\\anaconda3\\lib\\site-packages\\urllib3\\connectionpool.py\", line 426, in _make_request\n",
      "    httplib_response = self._make_request(\n",
      "  File \"C:\\Users\\PREETHI\\anaconda3\\lib\\site-packages\\urllib3\\connectionpool.py\", line 426, in _make_request\n",
      "    six.raise_from(e, None)\n",
      "  File \"<string>\", line 3, in raise_from\n",
      "    six.raise_from(e, None)\n",
      "  File \"<string>\", line 3, in raise_from\n",
      "  File \"C:\\Users\\PREETHI\\anaconda3\\lib\\site-packages\\urllib3\\connectionpool.py\", line 421, in _make_request\n",
      "  File \"C:\\Users\\PREETHI\\anaconda3\\lib\\site-packages\\urllib3\\connectionpool.py\", line 421, in _make_request\n",
      "    httplib_response = conn.getresponse()    httplib_response = conn.getresponse()\n",
      "  File \"C:\\Users\\PREETHI\\anaconda3\\lib\\http\\client.py\", line 1347, in getresponse\n",
      "\n",
      "  File \"C:\\Users\\PREETHI\\anaconda3\\lib\\http\\client.py\", line 1347, in getresponse\n",
      "    response.begin()    response.begin()\n",
      "  File \"C:\\Users\\PREETHI\\anaconda3\\lib\\http\\client.py\", line 307, in begin\n",
      "\n",
      "  File \"C:\\Users\\PREETHI\\anaconda3\\lib\\http\\client.py\", line 307, in begin\n",
      "        version, status, reason = self._read_status()version, status, reason = self._read_status()\n",
      "  File \"C:\\Users\\PREETHI\\anaconda3\\lib\\http\\client.py\", line 268, in _read_status\n",
      "\n",
      "  File \"C:\\Users\\PREETHI\\anaconda3\\lib\\http\\client.py\", line 268, in _read_status\n",
      "    line = str(self.fp.readline(_MAXLINE + 1), \"iso-8859-1\")\n",
      "  File \"C:\\Users\\PREETHI\\anaconda3\\lib\\socket.py\", line 669, in readinto\n",
      "        line = str(self.fp.readline(_MAXLINE + 1), \"iso-8859-1\")\n",
      "  File \"C:\\Users\\PREETHI\\anaconda3\\lib\\socket.py\", line 669, in readinto\n",
      "return self._sock.recv_into(b)\n",
      "  File \"C:\\Users\\PREETHI\\anaconda3\\lib\\ssl.py\", line 1241, in recv_into\n",
      "    return self._sock.recv_into(b)\n",
      "  File \"C:\\Users\\PREETHI\\anaconda3\\lib\\ssl.py\", line 1241, in recv_into\n",
      "    return self.read(nbytes, buffer)\n",
      "  File \"C:\\Users\\PREETHI\\anaconda3\\lib\\ssl.py\", line 1099, in read\n",
      "    return self._sslobj.read(len, buffer)\n",
      "urllib3.exceptions.ProtocolError: ('Connection aborted.', ConnectionResetError(10054, 'An existing connection was forcibly closed by the remote host', None, 10054, None))\n",
      "    \n",
      "During handling of the above exception, another exception occurred:\n",
      "\n",
      "Traceback (most recent call last):\n",
      "  File \"C:\\Users\\PREETHI\\anaconda3\\lib\\threading.py\", line 932, in _bootstrap_inner\n",
      "return self.read(nbytes, buffer)\n",
      "  File \"C:\\Users\\PREETHI\\anaconda3\\lib\\ssl.py\", line 1099, in read\n",
      "        self.run()return self._sslobj.read(len, buffer)\n",
      "urllib3.exceptions.\n",
      "  File \"C:\\Users\\PREETHI\\anaconda3\\lib\\site-packages\\nsepy\\commons.py\", line 132, in run\n",
      "ProtocolError:     ('Connection aborted.', ConnectionResetError(10054, 'An existing connection was forcibly closed by the remote host', None, 10054, None))\n",
      "\n",
      "During handling of the above exception, another exception occurred:\n",
      "\n",
      "Traceback (most recent call last):\n",
      "  File \"C:\\Users\\PREETHI\\anaconda3\\lib\\threading.py\", line 932, in _bootstrap_inner\n",
      "self.result = self._target(*self._args, **self._kwargs)\n",
      "  File \"C:\\Users\\PREETHI\\anaconda3\\lib\\site-packages\\nsepy\\history.py\", line 138, in get_history\n",
      "    self.run()\n",
      "  File \"C:\\Users\\PREETHI\\anaconda3\\lib\\site-packages\\nsepy\\commons.py\", line 132, in run\n",
      "    return get_history_quanta(**kwargs)\n",
      "  File \"C:\\Users\\PREETHI\\anaconda3\\lib\\site-packages\\nsepy\\history.py\", line 143, in get_history_quanta\n",
      "        df = url_to_df(url=url,self.result = self._target(*self._args, **self._kwargs)\n",
      "  File \"C:\\Users\\PREETHI\\anaconda3\\lib\\site-packages\\nsepy\\history.py\", line 151, in url_to_df\n",
      "\n",
      "  File \"C:\\Users\\PREETHI\\anaconda3\\lib\\site-packages\\nsepy\\history.py\", line 138, in get_history\n",
      "    resp = url(**params)\n",
      "  File \"C:\\Users\\PREETHI\\anaconda3\\lib\\site-packages\\nsepy\\commons.py\", line 167, in __call__\n",
      "    return get_history_quanta(**kwargs)\n",
      "  File \"C:\\Users\\PREETHI\\anaconda3\\lib\\site-packages\\nsepy\\history.py\", line 143, in get_history_quanta\n",
      "    df = url_to_df(url=url,    return self.session.get(url, params=kwargs, proxies = self.proxy )\n",
      "  File \"C:\\Users\\PREETHI\\anaconda3\\lib\\site-packages\\nsepy\\history.py\", line 151, in url_to_df\n",
      "\n",
      "  File \"C:\\Users\\PREETHI\\anaconda3\\lib\\site-packages\\requests\\sessions.py\", line 543, in get\n",
      "        return self.request('GET', url, **kwargs)\n",
      "  File \"C:\\Users\\PREETHI\\anaconda3\\lib\\site-packages\\requests\\sessions.py\", line 530, in request\n",
      "resp = url(**params)\n",
      "  File \"C:\\Users\\PREETHI\\anaconda3\\lib\\site-packages\\nsepy\\commons.py\", line 167, in __call__\n",
      "    resp = self.send(prep, **send_kwargs)\n",
      "    return self.session.get(url, params=kwargs, proxies = self.proxy )\n",
      "  File \"C:\\Users\\PREETHI\\anaconda3\\lib\\site-packages\\requests\\sessions.py\", line 665, in send\n",
      "  File \"C:\\Users\\PREETHI\\anaconda3\\lib\\site-packages\\requests\\sessions.py\", line 543, in get\n",
      "    history = [resp for resp in gen]\n",
      "  File \"C:\\Users\\PREETHI\\anaconda3\\lib\\site-packages\\requests\\sessions.py\", line 665, in <listcomp>\n",
      "    return self.request('GET', url, **kwargs)\n",
      "  File \"C:\\Users\\PREETHI\\anaconda3\\lib\\site-packages\\requests\\sessions.py\", line 530, in request\n",
      "    history = [resp for resp in gen]\n",
      "  File \"C:\\Users\\PREETHI\\anaconda3\\lib\\site-packages\\requests\\sessions.py\", line 237, in resolve_redirects\n",
      "    resp = self.send(prep, **send_kwargs)    \n",
      "  File \"C:\\Users\\PREETHI\\anaconda3\\lib\\site-packages\\requests\\sessions.py\", line 665, in send\n",
      "resp = self.send(\n",
      "  File \"C:\\Users\\PREETHI\\anaconda3\\lib\\site-packages\\requests\\sessions.py\", line 643, in send\n",
      "    history = [resp for resp in gen]\n",
      "  File \"C:\\Users\\PREETHI\\anaconda3\\lib\\site-packages\\requests\\sessions.py\", line 665, in <listcomp>\n",
      "    r = adapter.send(request, **kwargs)\n",
      "      File \"C:\\Users\\PREETHI\\anaconda3\\lib\\site-packages\\requests\\adapters.py\", line 498, in send\n",
      "history = [resp for resp in gen]\n",
      "  File \"C:\\Users\\PREETHI\\anaconda3\\lib\\site-packages\\requests\\sessions.py\", line 237, in resolve_redirects\n",
      "    raise ConnectionError(err, request=request)    resp = self.send(\n",
      "  File \"C:\\Users\\PREETHI\\anaconda3\\lib\\site-packages\\requests\\sessions.py\", line 643, in send\n",
      "\n",
      "requests.exceptions.ConnectionError:     ('Connection aborted.', ConnectionResetError(10054, 'An existing connection was forcibly closed by the remote host', None, 10054, None))\n"
     ]
    },
    {
     "name": "stderr",
     "output_type": "stream",
     "text": [
      "r = adapter.send(request, **kwargs)\n",
      "  File \"C:\\Users\\PREETHI\\anaconda3\\lib\\site-packages\\requests\\adapters.py\", line 498, in send\n",
      "    raise ConnectionError(err, request=request)\n",
      "requests.exceptions.ConnectionError: ('Connection aborted.', ConnectionResetError(10054, 'An existing connection was forcibly closed by the remote host', None, 10054, None))\n"
     ]
    },
    {
     "ename": "AttributeError",
     "evalue": "'ThreadReturns' object has no attribute 'result'",
     "output_type": "error",
     "traceback": [
      "\u001b[1;31m---------------------------------------------------------------------------\u001b[0m",
      "\u001b[1;31mAttributeError\u001b[0m                            Traceback (most recent call last)",
      "\u001b[1;32m<ipython-input-22-a7c1534c8aca>\u001b[0m in \u001b[0;36m<module>\u001b[1;34m\u001b[0m\n\u001b[0;32m      1\u001b[0m \u001b[1;31m#Fetching the test data and preprocessing\u001b[0m\u001b[1;33m\u001b[0m\u001b[1;33m\u001b[0m\u001b[1;33m\u001b[0m\u001b[0m\n\u001b[1;32m----> 2\u001b[1;33m \u001b[0mtestdataframe\u001b[0m \u001b[1;33m=\u001b[0m \u001b[0mgh\u001b[0m\u001b[1;33m(\u001b[0m\u001b[0msymbol\u001b[0m\u001b[1;33m=\u001b[0m\u001b[1;34m'SBIN'\u001b[0m\u001b[1;33m,\u001b[0m\u001b[0mstart\u001b[0m\u001b[1;33m=\u001b[0m\u001b[0mdt\u001b[0m\u001b[1;33m.\u001b[0m\u001b[0mdatetime\u001b[0m\u001b[1;33m(\u001b[0m\u001b[1;36m2018\u001b[0m\u001b[1;33m,\u001b[0m\u001b[1;36m5\u001b[0m\u001b[1;33m,\u001b[0m\u001b[1;36m23\u001b[0m\u001b[1;33m)\u001b[0m\u001b[1;33m,\u001b[0m\u001b[0mend\u001b[0m\u001b[1;33m=\u001b[0m\u001b[0mdt\u001b[0m\u001b[1;33m.\u001b[0m\u001b[0mdatetime\u001b[0m\u001b[1;33m(\u001b[0m\u001b[1;36m2018\u001b[0m\u001b[1;33m,\u001b[0m\u001b[1;36m12\u001b[0m\u001b[1;33m,\u001b[0m\u001b[1;36m31\u001b[0m\u001b[1;33m)\u001b[0m\u001b[1;33m)\u001b[0m\u001b[1;33m\u001b[0m\u001b[1;33m\u001b[0m\u001b[0m\n\u001b[0m\u001b[0;32m      3\u001b[0m \u001b[0mtestdataframe\u001b[0m\u001b[1;33m[\u001b[0m\u001b[1;34m'Date'\u001b[0m\u001b[1;33m]\u001b[0m \u001b[1;33m=\u001b[0m \u001b[0mtestdataframe\u001b[0m\u001b[1;33m.\u001b[0m\u001b[0mindex\u001b[0m\u001b[1;33m\u001b[0m\u001b[1;33m\u001b[0m\u001b[0m\n\u001b[0;32m      4\u001b[0m \u001b[0mtestdata\u001b[0m \u001b[1;33m=\u001b[0m \u001b[0mpd\u001b[0m\u001b[1;33m.\u001b[0m\u001b[0mDataFrame\u001b[0m\u001b[1;33m(\u001b[0m\u001b[0mcolumns\u001b[0m \u001b[1;33m=\u001b[0m \u001b[1;33m[\u001b[0m\u001b[1;34m'Date'\u001b[0m\u001b[1;33m,\u001b[0m \u001b[1;34m'Open'\u001b[0m\u001b[1;33m,\u001b[0m \u001b[1;34m'High'\u001b[0m\u001b[1;33m,\u001b[0m \u001b[1;34m'Low'\u001b[0m\u001b[1;33m,\u001b[0m \u001b[1;34m'Close'\u001b[0m\u001b[1;33m]\u001b[0m\u001b[1;33m)\u001b[0m\u001b[1;33m\u001b[0m\u001b[1;33m\u001b[0m\u001b[0m\n\u001b[0;32m      5\u001b[0m \u001b[0mtestdata\u001b[0m\u001b[1;33m[\u001b[0m\u001b[1;34m'Date'\u001b[0m\u001b[1;33m]\u001b[0m \u001b[1;33m=\u001b[0m \u001b[0mtestdataframe\u001b[0m\u001b[1;33m[\u001b[0m\u001b[1;34m'Date'\u001b[0m\u001b[1;33m]\u001b[0m\u001b[1;33m\u001b[0m\u001b[1;33m\u001b[0m\u001b[0m\n",
      "\u001b[1;32m~\\anaconda3\\lib\\site-packages\\nsepy\\history.py\u001b[0m in \u001b[0;36mget_history\u001b[1;34m(symbol, start, end, index, futures, option_type, expiry_date, strike_price, series)\u001b[0m\n\u001b[0;32m    134\u001b[0m         \u001b[0mt1\u001b[0m\u001b[1;33m.\u001b[0m\u001b[0mjoin\u001b[0m\u001b[1;33m(\u001b[0m\u001b[1;33m)\u001b[0m\u001b[1;33m\u001b[0m\u001b[1;33m\u001b[0m\u001b[0m\n\u001b[0;32m    135\u001b[0m         \u001b[0mt2\u001b[0m\u001b[1;33m.\u001b[0m\u001b[0mjoin\u001b[0m\u001b[1;33m(\u001b[0m\u001b[1;33m)\u001b[0m\u001b[1;33m\u001b[0m\u001b[1;33m\u001b[0m\u001b[0m\n\u001b[1;32m--> 136\u001b[1;33m         \u001b[1;32mreturn\u001b[0m \u001b[0mpd\u001b[0m\u001b[1;33m.\u001b[0m\u001b[0mconcat\u001b[0m\u001b[1;33m(\u001b[0m\u001b[1;33m(\u001b[0m\u001b[0mt1\u001b[0m\u001b[1;33m.\u001b[0m\u001b[0mresult\u001b[0m\u001b[1;33m,\u001b[0m \u001b[0mt2\u001b[0m\u001b[1;33m.\u001b[0m\u001b[0mresult\u001b[0m\u001b[1;33m)\u001b[0m\u001b[1;33m)\u001b[0m\u001b[1;33m\u001b[0m\u001b[1;33m\u001b[0m\u001b[0m\n\u001b[0m\u001b[0;32m    137\u001b[0m     \u001b[1;32melse\u001b[0m\u001b[1;33m:\u001b[0m\u001b[1;33m\u001b[0m\u001b[1;33m\u001b[0m\u001b[0m\n\u001b[0;32m    138\u001b[0m         \u001b[1;32mreturn\u001b[0m \u001b[0mget_history_quanta\u001b[0m\u001b[1;33m(\u001b[0m\u001b[1;33m**\u001b[0m\u001b[0mkwargs\u001b[0m\u001b[1;33m)\u001b[0m\u001b[1;33m\u001b[0m\u001b[1;33m\u001b[0m\u001b[0m\n",
      "\u001b[1;31mAttributeError\u001b[0m: 'ThreadReturns' object has no attribute 'result'"
     ]
    }
   ],
   "source": [
    "#Fetching the test data and preprocessing\n",
    "testdataframe = gh(symbol='SBIN',start=dt.datetime(2018,5,23),end=dt.datetime(2018,12,31))\n",
    "testdataframe['Date'] = testdataframe.index\n",
    "testdata = pd.DataFrame(columns = ['Date', 'Open', 'High', 'Low', 'Close'])\n",
    "testdata['Date'] = testdataframe['Date']\n",
    "testdata['Open'] = testdataframe['Open']\n",
    "testdata['High'] = testdataframe['High']\n",
    "testdata['Low'] = testdataframe['Low']\n",
    "testdata['Close'] = testdataframe['Close']\n",
    "real_stock_price = testdata.iloc[:, 1:2].values\n",
    "dataset_total = pd.concat((data2['Open'], testdata['Open']), axis = 0)\n",
    "inputs = dataset_total[len(dataset_total) - len(testdata) - 60:].values\n",
    "inputs = inputs.reshape(-1,1)\n",
    "inputs = sc.transform(inputs)\n",
    "X_test = []\n",
    "for i in range(60, 235):\n",
    "    X_test.append(inputs[i-60:i, 0])\n",
    "X_test = np.array(X_test)\n",
    "X_test = np.reshape(X_test, (X_test.shape[0], X_test.shape[1], 1))\n",
    "\n"
   ]
  },
  {
   "cell_type": "code",
   "execution_count": 18,
   "metadata": {},
   "outputs": [
    {
     "ename": "NameError",
     "evalue": "name 'X_test' is not defined",
     "output_type": "error",
     "traceback": [
      "\u001b[1;31m---------------------------------------------------------------------------\u001b[0m",
      "\u001b[1;31mNameError\u001b[0m                                 Traceback (most recent call last)",
      "\u001b[1;32m<ipython-input-18-159f700ae1ed>\u001b[0m in \u001b[0;36m<module>\u001b[1;34m\u001b[0m\n\u001b[0;32m      1\u001b[0m \u001b[1;31m#Making predictions on the test data\u001b[0m\u001b[1;33m\u001b[0m\u001b[1;33m\u001b[0m\u001b[1;33m\u001b[0m\u001b[0m\n\u001b[1;32m----> 2\u001b[1;33m \u001b[0mpredicted_stock_price\u001b[0m \u001b[1;33m=\u001b[0m \u001b[0mregressor\u001b[0m\u001b[1;33m.\u001b[0m\u001b[0mpredict\u001b[0m\u001b[1;33m(\u001b[0m\u001b[0mX_test\u001b[0m\u001b[1;33m)\u001b[0m\u001b[1;33m\u001b[0m\u001b[1;33m\u001b[0m\u001b[0m\n\u001b[0m\u001b[0;32m      3\u001b[0m \u001b[0mpredicted_stock_price\u001b[0m \u001b[1;33m=\u001b[0m \u001b[0msc\u001b[0m\u001b[1;33m.\u001b[0m\u001b[0minverse_transform\u001b[0m\u001b[1;33m(\u001b[0m\u001b[0mpredicted_stock_price\u001b[0m\u001b[1;33m)\u001b[0m\u001b[1;33m\u001b[0m\u001b[1;33m\u001b[0m\u001b[0m\n",
      "\u001b[1;31mNameError\u001b[0m: name 'X_test' is not defined"
     ]
    }
   ],
   "source": [
    "#Making predictions on the test data\n",
    "predicted_stock_price = regressor.predict(X_test)\n",
    "predicted_stock_price = sc.inverse_transform(predicted_stock_price)"
   ]
  },
  {
   "cell_type": "code",
   "execution_count": 24,
   "metadata": {},
   "outputs": [],
   "source": [
    "#Fetching the test data and preprocessing\n",
    "testdataframe = gh(symbol='SBIN',start=dt.datetime(2019,1,1),end=dt.datetime(2019,9,18))\n",
    "testdataframe['Date'] = testdataframe.index\n",
    "testdata = pd.DataFrame(columns = ['Date', 'Open', 'High', 'Low', 'Close'])\n",
    "testdata['Date'] = testdataframe['Date']\n",
    "testdata['Open'] = testdataframe['Open']\n",
    "testdata['High'] = testdataframe['High']\n",
    "testdata['Low'] = testdataframe['Low']\n",
    "testdata['Close'] = testdataframe['Close']\n",
    "real_stock_price = testdata.iloc[:, 1:2].values\n",
    "dataset_total = pd.concat((data2['Open'], testdata['Open']), axis = 0)\n",
    "inputs = dataset_total[len(dataset_total) - len(testdata) - 60:].values\n",
    "inputs = inputs.reshape(-1,1)\n",
    "inputs = sc.transform(inputs)\n",
    "X_test = []\n",
    "for i in range(60, 235):\n",
    "    X_test.append(inputs[i-60:i, 0])\n",
    "X_test = np.array(X_test)\n",
    "X_test = np.reshape(X_test, (X_test.shape[0], X_test.shape[1], 1))"
   ]
  },
  {
   "cell_type": "code",
   "execution_count": 25,
   "metadata": {},
   "outputs": [],
   "source": [
    "#Making predictions on the test data\n",
    "predicted_stock_price = regressor.predict(X_test)\n",
    "predicted_stock_price = sc.inverse_transform(predicted_stock_price)"
   ]
  },
  {
   "cell_type": "code",
   "execution_count": 26,
   "metadata": {},
   "outputs": [
    {
     "data": {
      "image/png": "[encoded data removed]",
      "text/plain": [
       "<Figure size 432x288 with 1 Axes>"
      ]
     },
     "metadata": {
      "needs_background": "light"
     },
     "output_type": "display_data"
    }
   ],
   "source": [
    "#Visualizing the prediction\n",
    "plt.figure()\n",
    "plt.plot(real_stock_price, color = 'r', label = 'Close')\n",
    "plt.plot(predicted_stock_price, color = 'b', label = 'Prediction')\n",
    "plt.xlabel('Date')\n",
    "plt.legend()\n",
    "plt.show()"
   ]
  },
  {
   "cell_type": "code",
   "execution_count": 27,
   "metadata": {},
   "outputs": [],
   "source": [
    "######RMSE#######\n",
    "from sklearn.metrics import mean_squared_error \n",
    "from statsmodels.tools.eval_measures import rmse "
   ]
  },
  {
   "cell_type": "code",
   "execution_count": 28,
   "metadata": {},
   "outputs": [
    {
     "name": "stdout",
     "output_type": "stream",
     "text": [
      "RMSE with ARIMA 9.66349312313635\n"
     ]
    }
   ],
   "source": [
    "# RMSE for ARIMA model\n",
    "err_ARIMA = rmse(test[\"Close\"], predictions) \n",
    "print('RMSE with ARIMA', err_ARIMA)"
   ]
  },
  {
   "cell_type": "code",
   "execution_count": 29,
   "metadata": {},
   "outputs": [
    {
     "name": "stdout",
     "output_type": "stream",
     "text": [
      "RMSE with LSTM [39.34133631 39.82392611 47.22338628 51.62270815 50.43961711 43.11216763\n",
      " 46.0592228  45.39930306 47.28923064 45.33722086 37.7376416  39.75667123\n",
      " 40.81177116 42.25550968 40.66548042 41.93458432 40.56889267 38.06575571\n",
      " 38.90411874 38.43348779 41.23529686 43.54044002 45.83763275 48.02130447\n",
      " 49.11064696 51.94978872 51.29748965 51.51409334 53.68679008 54.9336459\n",
      " 55.892146   58.43582778 47.19050912 50.05112686 46.47493735 52.7200231\n",
      " 53.01597237 50.43961711 53.57452049 59.83383753 53.053062   47.65349944\n",
      " 44.39265362 39.82392611 38.72394483 39.42723662 40.00546939 40.56889267\n",
      " 35.71610464 36.43669622 36.27499664 38.9320397  42.9258391  42.29268344\n",
      " 49.46980872 46.48702432 48.47318591 54.22729889 49.57418472 48.7800492\n",
      " 51.63631702 53.96358377 58.84829352 66.11579086 63.98089501 56.64282022\n",
      " 52.47600238 53.06699393 61.18383034 61.71388254 66.24228723 60.69662125\n",
      " 62.16416672 61.63218656 58.37140041 52.80775771 51.49150882 48.23606722\n",
      " 53.21559545 61.63218656 56.48730236 61.55054462 42.13111013 37.09378941\n",
      " 41.65559439 56.60391457 55.36834028 55.86806162 64.23048777 77.0361237\n",
      " 78.63719315 82.40495737 83.17251924 72.6375969  78.63719315 78.28065302\n",
      " 77.47998929 74.82741756 76.9474332  68.74926182 65.19119687 64.48051017\n",
      " 60.41335332 71.29015629 55.59859475 55.40666967 56.29330009 49.46980872\n",
      " 37.49952744 37.151083   36.94135741 35.92807947 36.19845123 36.09164179\n",
      " 36.51858392 36.07477969 39.63180153 39.99118293 35.64633508 35.57585034\n",
      " 36.08845556 35.85201059 36.26153319 35.91841138 37.47778826 37.29297356\n",
      " 40.44922429 43.48283334 39.66770301 38.30221345 37.52534872 39.66770301\n",
      " 37.50943528 35.82362175 36.366177   37.19470102 37.37468459 35.64971449\n",
      " 36.51432952 36.36226619 36.59514571 35.66625009 35.77595375 38.06575571\n",
      " 36.48066716 36.28115092 35.99933264 37.85608303 36.97704056 36.80453412]\n"
     ]
    }
   ],
   "source": [
    "#RMSE for LSTM Model\n",
    "err_LSTM = rmse(test[\"Close\"], predicted_stock_price)\n",
    "print('RMSE with LSTM', err_LSTM)"
   ]
  },
  {
   "cell_type": "code",
   "execution_count": 30,
   "metadata": {},
   "outputs": [
    {
     "name": "stdout",
     "output_type": "stream",
     "text": [
      "RMSE with LSTM [39.34133631 39.82392611 47.22338628 51.62270815 50.43961711 43.11216763\n",
      " 46.0592228  45.39930306 47.28923064 45.33722086 37.7376416  39.75667123\n",
      " 40.81177116 42.25550968 40.66548042 41.93458432 40.56889267 38.06575571\n",
      " 38.90411874 38.43348779 41.23529686 43.54044002 45.83763275 48.02130447\n",
      " 49.11064696 51.94978872 51.29748965 51.51409334 53.68679008 54.9336459\n",
      " 55.892146   58.43582778 47.19050912 50.05112686 46.47493735 52.7200231\n",
      " 53.01597237 50.43961711 53.57452049 59.83383753 53.053062   47.65349944\n",
      " 44.39265362 39.82392611 38.72394483 39.42723662 40.00546939 40.56889267\n",
      " 35.71610464 36.43669622 36.27499664 38.9320397  42.9258391  42.29268344\n",
      " 49.46980872 46.48702432 48.47318591 54.22729889 49.57418472 48.7800492\n",
      " 51.63631702 53.96358377 58.84829352 66.11579086 63.98089501 56.64282022\n",
      " 52.47600238 53.06699393 61.18383034 61.71388254 66.24228723 60.69662125\n",
      " 62.16416672 61.63218656 58.37140041 52.80775771 51.49150882 48.23606722\n",
      " 53.21559545 61.63218656 56.48730236 61.55054462 42.13111013 37.09378941\n",
      " 41.65559439 56.60391457 55.36834028 55.86806162 64.23048777 77.0361237\n",
      " 78.63719315 82.40495737 83.17251924 72.6375969  78.63719315 78.28065302\n",
      " 77.47998929 74.82741756 76.9474332  68.74926182 65.19119687 64.48051017\n",
      " 60.41335332 71.29015629 55.59859475 55.40666967 56.29330009 49.46980872\n",
      " 37.49952744 37.151083   36.94135741 35.92807947 36.19845123 36.09164179\n",
      " 36.51858392 36.07477969 39.63180153 39.99118293 35.64633508 35.57585034\n",
      " 36.08845556 35.85201059 36.26153319 35.91841138 37.47778826 37.29297356\n",
      " 40.44922429 43.48283334 39.66770301 38.30221345 37.52534872 39.66770301\n",
      " 37.50943528 35.82362175 36.366177   37.19470102 37.37468459 35.64971449\n",
      " 36.51432952 36.36226619 36.59514571 35.66625009 35.77595375 38.06575571\n",
      " 36.48066716 36.28115092 35.99933264 37.85608303 36.97704056 36.80453412]\n"
     ]
    }
   ],
   "source": [
    "print('RMSE with LSTM', err_LSTM)"
   ]
  },
  {
   "cell_type": "code",
   "execution_count": null,
   "metadata": {},
   "outputs": [],
   "source": []
  }
 ],
 "metadata": {
  "kernelspec": {
   "display_name": "Python 3",
   "language": "python",
   "name": "python3"
  },
  "language_info": {
   "codemirror_mode": {
    "name": "ipython",
    "version": 3
   },
   "file_extension": ".py",
   "mimetype": "text/x-python",
   "name": "python",
   "nbconvert_exporter": "python",
   "pygments_lexer": "ipython3",
   "version": "3.8.5"
  }
 },
 "nbformat": 4,
 "nbformat_minor": 4
}
